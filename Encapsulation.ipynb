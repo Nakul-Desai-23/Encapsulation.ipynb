{
 "cells": [
  {
   "cell_type": "markdown",
   "id": "a392eb6f",
   "metadata": {},
   "source": [
    "### Data Hiding "
   ]
  },
  {
   "cell_type": "code",
   "execution_count": 1,
   "id": "d7715c77",
   "metadata": {},
   "outputs": [],
   "source": [
    "class Point:\n",
    "    def __init__(self,a,b):\n",
    "        self.a = a    #p.a =a\n",
    "        self.b = b    #p.b = b\n",
    "        \n",
    "    #    def __setattr__(self, name, value):\n",
    "#        if value < 0:\n",
    "#            raise ValueError(\"Negative values not allowed\")\n",
    "#        super().__setattr__(name, value)\n",
    "\n",
    "\n",
    "    #Getter Method\n",
    "    @property\n",
    "    def a(self):\n",
    "        return self._a\n",
    "    \n",
    "    #Setter Method\n",
    "    @a.setter\n",
    "    def a(self,value):\n",
    "        if value < 0:\n",
    "            raise ValueError(\"Negative values are not allowed for 'a'\")\n",
    "        self._a = value\n",
    "        \n",
    "\n",
    "     #Getter Method\n",
    "    @property\n",
    "    def b(self):\n",
    "        return self._b\n",
    "    \n",
    "    #Setter Method\n",
    "    @a.setter\n",
    "    def b(self,value):\n",
    "        if value < 0:\n",
    "            raise ValueError(\"Negative values are not allowed for 'b'\")\n",
    "        self._b = value\n",
    "        \n"
   ]
  },
  {
   "cell_type": "code",
   "execution_count": 4,
   "id": "7b86f0e5",
   "metadata": {},
   "outputs": [
    {
     "data": {
      "text/plain": [
       "{'_a': 1, '_b': 2}"
      ]
     },
     "execution_count": 4,
     "metadata": {},
     "output_type": "execute_result"
    }
   ],
   "source": [
    "p1 = Point(1,2)\n",
    "p1.__dict__  #due to the getter and setter implementation values are received by a and b but actually stored in _a and _b which the user is not supposed to know"
   ]
  },
  {
   "cell_type": "code",
   "execution_count": 5,
   "id": "7ef22837",
   "metadata": {},
   "outputs": [
    {
     "ename": "ValueError",
     "evalue": "Negative values are not allowed for 'a'",
     "output_type": "error",
     "traceback": [
      "\u001b[1;31m---------------------------------------------------------------------------\u001b[0m",
      "\u001b[1;31mValueError\u001b[0m                                Traceback (most recent call last)",
      "Cell \u001b[1;32mIn[5], line 1\u001b[0m\n\u001b[1;32m----> 1\u001b[0m p2 \u001b[38;5;241m=\u001b[39m Point(\u001b[38;5;241m-\u001b[39m\u001b[38;5;241m1\u001b[39m,\u001b[38;5;241m-\u001b[39m\u001b[38;5;241m1\u001b[39m)\n",
      "Cell \u001b[1;32mIn[1], line 3\u001b[0m, in \u001b[0;36mPoint.__init__\u001b[1;34m(self, a, b)\u001b[0m\n\u001b[0;32m      2\u001b[0m \u001b[38;5;28;01mdef\u001b[39;00m \u001b[38;5;21m__init__\u001b[39m(\u001b[38;5;28mself\u001b[39m,a,b):\n\u001b[1;32m----> 3\u001b[0m     \u001b[38;5;28mself\u001b[39m\u001b[38;5;241m.\u001b[39ma \u001b[38;5;241m=\u001b[39m a    \u001b[38;5;66;03m#p.a =a\u001b[39;00m\n\u001b[0;32m      4\u001b[0m     \u001b[38;5;28mself\u001b[39m\u001b[38;5;241m.\u001b[39mb \u001b[38;5;241m=\u001b[39m b\n",
      "Cell \u001b[1;32mIn[1], line 21\u001b[0m, in \u001b[0;36mPoint.a\u001b[1;34m(self, value)\u001b[0m\n\u001b[0;32m     18\u001b[0m \u001b[38;5;129m@a\u001b[39m\u001b[38;5;241m.\u001b[39msetter\n\u001b[0;32m     19\u001b[0m \u001b[38;5;28;01mdef\u001b[39;00m \u001b[38;5;21ma\u001b[39m(\u001b[38;5;28mself\u001b[39m,value):\n\u001b[0;32m     20\u001b[0m     \u001b[38;5;28;01mif\u001b[39;00m value \u001b[38;5;241m<\u001b[39m \u001b[38;5;241m0\u001b[39m:\n\u001b[1;32m---> 21\u001b[0m         \u001b[38;5;28;01mraise\u001b[39;00m \u001b[38;5;167;01mValueError\u001b[39;00m(\u001b[38;5;124m\"\u001b[39m\u001b[38;5;124mNegative values are not allowed for \u001b[39m\u001b[38;5;124m'\u001b[39m\u001b[38;5;124ma\u001b[39m\u001b[38;5;124m'\u001b[39m\u001b[38;5;124m\"\u001b[39m)\n\u001b[0;32m     22\u001b[0m     \u001b[38;5;28mself\u001b[39m\u001b[38;5;241m.\u001b[39m_a \u001b[38;5;241m=\u001b[39m value\n",
      "\u001b[1;31mValueError\u001b[0m: Negative values are not allowed for 'a'"
     ]
    }
   ],
   "source": [
    "p2 = Point(-1,-1)"
   ]
  },
  {
   "cell_type": "code",
   "execution_count": 18,
   "id": "22ca95f1",
   "metadata": {},
   "outputs": [],
   "source": [
    "class Calculator:\n",
    "    def __init__(self,a,b):\n",
    "        self.a = a\n",
    "        self.b =b\n",
    "        \n",
    "    #intercepting the values of a and b using getter and setter\n",
    "    \n",
    "    @property\n",
    "    def a(self):\n",
    "        return self._a\n",
    "    \n",
    "    @a.setter\n",
    "    def a(self,value):\n",
    "        if value < 0:\n",
    "            raise ValueError(\"Negative values are not allowed\")\n",
    "        self._a = value\n",
    "        \n",
    "    @property\n",
    "    def b(self):\n",
    "        return self._b\n",
    "    \n",
    "    @a.setter\n",
    "    def b(self,value):\n",
    "        if value < 0:\n",
    "            raise ValueError(\"Negative values are not allowed\")\n",
    "        self._b = value\n",
    "        \n",
    "    def mul(self):\n",
    "        return self.a *self.b"
   ]
  },
  {
   "cell_type": "code",
   "execution_count": 19,
   "id": "e630683b",
   "metadata": {},
   "outputs": [
    {
     "data": {
      "text/plain": [
       "{'_a': 1, '_b': 2}"
      ]
     },
     "execution_count": 19,
     "metadata": {},
     "output_type": "execute_result"
    }
   ],
   "source": [
    "c = Calculator(1,2)\n",
    "c.mul()\n",
    "c.__dict__"
   ]
  },
  {
   "cell_type": "code",
   "execution_count": 20,
   "id": "bafd5ddf",
   "metadata": {},
   "outputs": [
    {
     "ename": "ValueError",
     "evalue": "Negative values are not allowed",
     "output_type": "error",
     "traceback": [
      "\u001b[1;31m---------------------------------------------------------------------------\u001b[0m",
      "\u001b[1;31mValueError\u001b[0m                                Traceback (most recent call last)",
      "Cell \u001b[1;32mIn[20], line 1\u001b[0m\n\u001b[1;32m----> 1\u001b[0m c \u001b[38;5;241m=\u001b[39m Calculator(\u001b[38;5;241m1\u001b[39m,\u001b[38;5;241m-\u001b[39m\u001b[38;5;241m2\u001b[39m)\n",
      "Cell \u001b[1;32mIn[18], line 4\u001b[0m, in \u001b[0;36mCalculator.__init__\u001b[1;34m(self, a, b)\u001b[0m\n\u001b[0;32m      2\u001b[0m \u001b[38;5;28;01mdef\u001b[39;00m \u001b[38;5;21m__init__\u001b[39m(\u001b[38;5;28mself\u001b[39m,a,b):\n\u001b[0;32m      3\u001b[0m     \u001b[38;5;28mself\u001b[39m\u001b[38;5;241m.\u001b[39ma \u001b[38;5;241m=\u001b[39m a\n\u001b[1;32m----> 4\u001b[0m     \u001b[38;5;28mself\u001b[39m\u001b[38;5;241m.\u001b[39mb \u001b[38;5;241m=\u001b[39mb\n",
      "Cell \u001b[1;32mIn[18], line 25\u001b[0m, in \u001b[0;36mCalculator.b\u001b[1;34m(self, value)\u001b[0m\n\u001b[0;32m     22\u001b[0m \u001b[38;5;129m@a\u001b[39m\u001b[38;5;241m.\u001b[39msetter\n\u001b[0;32m     23\u001b[0m \u001b[38;5;28;01mdef\u001b[39;00m \u001b[38;5;21mb\u001b[39m(\u001b[38;5;28mself\u001b[39m,value):\n\u001b[0;32m     24\u001b[0m     \u001b[38;5;28;01mif\u001b[39;00m value \u001b[38;5;241m<\u001b[39m \u001b[38;5;241m0\u001b[39m:\n\u001b[1;32m---> 25\u001b[0m         \u001b[38;5;28;01mraise\u001b[39;00m \u001b[38;5;167;01mValueError\u001b[39;00m(\u001b[38;5;124m\"\u001b[39m\u001b[38;5;124mNegative values are not allowed\u001b[39m\u001b[38;5;124m\"\u001b[39m)\n\u001b[0;32m     26\u001b[0m     \u001b[38;5;28mself\u001b[39m\u001b[38;5;241m.\u001b[39m_b \u001b[38;5;241m=\u001b[39m value\n",
      "\u001b[1;31mValueError\u001b[0m: Negative values are not allowed"
     ]
    }
   ],
   "source": [
    "c = Calculator(1,-2)"
   ]
  },
  {
   "cell_type": "code",
   "execution_count": 21,
   "id": "6127eda8",
   "metadata": {},
   "outputs": [],
   "source": [
    "#Achieving this task using setattr method\n",
    "\n",
    "class Circle:\n",
    "    def __init__(self,radius):\n",
    "        self.radius = radius   #c.radius = 3\n",
    "        \n",
    "    def __setattr__(self,name,value):\n",
    "        if not isinstance(value,(int,float)):\n",
    "            raise ValueError(\"Only numbers are allowed for radius\")\n",
    "        super().__setattr__(name,value)\n",
    "        \n",
    "    def circumference(self):\n",
    "        return 2 * 3.14 * self.radius"
   ]
  },
  {
   "cell_type": "code",
   "execution_count": 24,
   "id": "cdf6095d",
   "metadata": {},
   "outputs": [
    {
     "data": {
      "text/plain": [
       "18.84"
      ]
     },
     "execution_count": 24,
     "metadata": {},
     "output_type": "execute_result"
    }
   ],
   "source": [
    "c1 = Circle(3)\n",
    "c1.circumference()"
   ]
  },
  {
   "cell_type": "code",
   "execution_count": 25,
   "id": "b06e6038",
   "metadata": {},
   "outputs": [
    {
     "ename": "ValueError",
     "evalue": "Only numbers are allowed for radius",
     "output_type": "error",
     "traceback": [
      "\u001b[1;31m---------------------------------------------------------------------------\u001b[0m",
      "\u001b[1;31mValueError\u001b[0m                                Traceback (most recent call last)",
      "Cell \u001b[1;32mIn[25], line 1\u001b[0m\n\u001b[1;32m----> 1\u001b[0m c2 \u001b[38;5;241m=\u001b[39m Circle(\u001b[38;5;124m\"\u001b[39m\u001b[38;5;124m3\u001b[39m\u001b[38;5;124m\"\u001b[39m)\n\u001b[0;32m      2\u001b[0m c2\u001b[38;5;241m.\u001b[39mcircumference()\n",
      "Cell \u001b[1;32mIn[21], line 3\u001b[0m, in \u001b[0;36mCircle.__init__\u001b[1;34m(self, radius)\u001b[0m\n\u001b[0;32m      2\u001b[0m \u001b[38;5;28;01mdef\u001b[39;00m \u001b[38;5;21m__init__\u001b[39m(\u001b[38;5;28mself\u001b[39m,radius):\n\u001b[1;32m----> 3\u001b[0m     \u001b[38;5;28mself\u001b[39m\u001b[38;5;241m.\u001b[39mradius \u001b[38;5;241m=\u001b[39m radius\n",
      "Cell \u001b[1;32mIn[21], line 7\u001b[0m, in \u001b[0;36mCircle.__setattr__\u001b[1;34m(self, name, value)\u001b[0m\n\u001b[0;32m      5\u001b[0m \u001b[38;5;28;01mdef\u001b[39;00m \u001b[38;5;21m__setattr__\u001b[39m(\u001b[38;5;28mself\u001b[39m,name,value):\n\u001b[0;32m      6\u001b[0m     \u001b[38;5;28;01mif\u001b[39;00m \u001b[38;5;129;01mnot\u001b[39;00m \u001b[38;5;28misinstance\u001b[39m(value,(\u001b[38;5;28mint\u001b[39m,\u001b[38;5;28mfloat\u001b[39m)):\n\u001b[1;32m----> 7\u001b[0m         \u001b[38;5;28;01mraise\u001b[39;00m \u001b[38;5;167;01mValueError\u001b[39;00m(\u001b[38;5;124m\"\u001b[39m\u001b[38;5;124mOnly numbers are allowed for radius\u001b[39m\u001b[38;5;124m\"\u001b[39m)\n\u001b[0;32m      8\u001b[0m     \u001b[38;5;28msuper\u001b[39m()\u001b[38;5;241m.\u001b[39m\u001b[38;5;21m__setattr__\u001b[39m(name,value)\n",
      "\u001b[1;31mValueError\u001b[0m: Only numbers are allowed for radius"
     ]
    }
   ],
   "source": [
    "c2 = Circle(\"3\")\n",
    "c2.circumference()"
   ]
  },
  {
   "cell_type": "code",
   "execution_count": 26,
   "id": "d7927c6c",
   "metadata": {},
   "outputs": [],
   "source": [
    "#Changing the implementation(not the interface) using getter and setter \n",
    "\n",
    "class Circle:\n",
    "    def __init__(self,radius):\n",
    "        self.radius = radius \n",
    "    \n",
    "    @property\n",
    "    def radius(self):\n",
    "        return self._radius\n",
    "    \n",
    "    @radius.setter\n",
    "    def radius(self,value):\n",
    "        if not isinstance(value,(int,float)):\n",
    "            raise ValueError(\"Only numbers are allowed\")\n",
    "        self._radius = value\n",
    "        \n",
    "    def circumference(self):\n",
    "        return 2 * 3.14 * self.radius"
   ]
  },
  {
   "cell_type": "code",
   "execution_count": 27,
   "id": "7b569a69",
   "metadata": {},
   "outputs": [
    {
     "data": {
      "text/plain": [
       "18.84"
      ]
     },
     "execution_count": 27,
     "metadata": {},
     "output_type": "execute_result"
    }
   ],
   "source": [
    "c1 = Circle(3)\n",
    "c1.circumference()"
   ]
  },
  {
   "cell_type": "code",
   "execution_count": 28,
   "id": "e215b7e5",
   "metadata": {},
   "outputs": [
    {
     "ename": "ValueError",
     "evalue": "Only numbers are allowed",
     "output_type": "error",
     "traceback": [
      "\u001b[1;31m---------------------------------------------------------------------------\u001b[0m",
      "\u001b[1;31mValueError\u001b[0m                                Traceback (most recent call last)",
      "Cell \u001b[1;32mIn[28], line 1\u001b[0m\n\u001b[1;32m----> 1\u001b[0m c2 \u001b[38;5;241m=\u001b[39m Circle(\u001b[38;5;124m\"\u001b[39m\u001b[38;5;124m3\u001b[39m\u001b[38;5;124m\"\u001b[39m)\n\u001b[0;32m      2\u001b[0m c2\u001b[38;5;241m.\u001b[39mcircumference()\n",
      "Cell \u001b[1;32mIn[26], line 3\u001b[0m, in \u001b[0;36mCircle.__init__\u001b[1;34m(self, radius)\u001b[0m\n\u001b[0;32m      2\u001b[0m \u001b[38;5;28;01mdef\u001b[39;00m \u001b[38;5;21m__init__\u001b[39m(\u001b[38;5;28mself\u001b[39m,radius):\n\u001b[1;32m----> 3\u001b[0m     \u001b[38;5;28mself\u001b[39m\u001b[38;5;241m.\u001b[39mradius \u001b[38;5;241m=\u001b[39m radius\n",
      "Cell \u001b[1;32mIn[26], line 12\u001b[0m, in \u001b[0;36mCircle.radius\u001b[1;34m(self, value)\u001b[0m\n\u001b[0;32m      9\u001b[0m \u001b[38;5;129m@radius\u001b[39m\u001b[38;5;241m.\u001b[39msetter\n\u001b[0;32m     10\u001b[0m \u001b[38;5;28;01mdef\u001b[39;00m \u001b[38;5;21mradius\u001b[39m(\u001b[38;5;28mself\u001b[39m,value):\n\u001b[0;32m     11\u001b[0m     \u001b[38;5;28;01mif\u001b[39;00m \u001b[38;5;129;01mnot\u001b[39;00m \u001b[38;5;28misinstance\u001b[39m(value,(\u001b[38;5;28mint\u001b[39m,\u001b[38;5;28mfloat\u001b[39m)):\n\u001b[1;32m---> 12\u001b[0m         \u001b[38;5;28;01mraise\u001b[39;00m \u001b[38;5;167;01mValueError\u001b[39;00m(\u001b[38;5;124m\"\u001b[39m\u001b[38;5;124mOnly numbers are allowed\u001b[39m\u001b[38;5;124m\"\u001b[39m)\n\u001b[0;32m     13\u001b[0m     \u001b[38;5;28mself\u001b[39m\u001b[38;5;241m.\u001b[39m_radius \u001b[38;5;241m=\u001b[39m value\n",
      "\u001b[1;31mValueError\u001b[0m: Only numbers are allowed"
     ]
    }
   ],
   "source": [
    "c2 = Circle(\"3\")\n",
    "c2.circumference()"
   ]
  },
  {
   "cell_type": "code",
   "execution_count": 29,
   "id": "366b795b",
   "metadata": {},
   "outputs": [],
   "source": [
    "#Using setattr method\n",
    "\n",
    "class Employee:\n",
    "    def __init__(self , fname ,lname,pay):\n",
    "        self.fname = fname\n",
    "        self.lname = lname\n",
    "        self.pay = pay\n",
    "        \n",
    "    def __setattr__(self, name, value):\n",
    "        if name not in (\"fname\", \"lname\", \"pay\"):\n",
    "            raise AttributeError(f\"Cannot set {name}\")\n",
    "        super().__setattr__(name, value)"
   ]
  },
  {
   "cell_type": "markdown",
   "id": "0d0a7c4c",
   "metadata": {},
   "source": [
    "emp1 = Employee(\"steve\",\"jobs\",1000)\n",
    "emp1.__dict__"
   ]
  },
  {
   "cell_type": "code",
   "execution_count": 32,
   "id": "f0be70ac",
   "metadata": {},
   "outputs": [
    {
     "ename": "AttributeError",
     "evalue": "Cannot set age",
     "output_type": "error",
     "traceback": [
      "\u001b[1;31m---------------------------------------------------------------------------\u001b[0m",
      "\u001b[1;31mAttributeError\u001b[0m                            Traceback (most recent call last)",
      "Cell \u001b[1;32mIn[32], line 1\u001b[0m\n\u001b[1;32m----> 1\u001b[0m emp1\u001b[38;5;241m.\u001b[39mage \u001b[38;5;241m=\u001b[39m \u001b[38;5;241m30\u001b[39m\n",
      "Cell \u001b[1;32mIn[29], line 11\u001b[0m, in \u001b[0;36mEmployee.__setattr__\u001b[1;34m(self, name, value)\u001b[0m\n\u001b[0;32m      9\u001b[0m \u001b[38;5;28;01mdef\u001b[39;00m \u001b[38;5;21m__setattr__\u001b[39m(\u001b[38;5;28mself\u001b[39m, name, value):\n\u001b[0;32m     10\u001b[0m     \u001b[38;5;28;01mif\u001b[39;00m name \u001b[38;5;129;01mnot\u001b[39;00m \u001b[38;5;129;01min\u001b[39;00m (\u001b[38;5;124m\"\u001b[39m\u001b[38;5;124mfname\u001b[39m\u001b[38;5;124m\"\u001b[39m, \u001b[38;5;124m\"\u001b[39m\u001b[38;5;124mlname\u001b[39m\u001b[38;5;124m\"\u001b[39m, \u001b[38;5;124m\"\u001b[39m\u001b[38;5;124mpay\u001b[39m\u001b[38;5;124m\"\u001b[39m):\n\u001b[1;32m---> 11\u001b[0m         \u001b[38;5;28;01mraise\u001b[39;00m \u001b[38;5;167;01mAttributeError\u001b[39;00m(\u001b[38;5;124mf\u001b[39m\u001b[38;5;124m\"\u001b[39m\u001b[38;5;124mCannot set \u001b[39m\u001b[38;5;132;01m{\u001b[39;00mname\u001b[38;5;132;01m}\u001b[39;00m\u001b[38;5;124m\"\u001b[39m)\n\u001b[0;32m     12\u001b[0m     \u001b[38;5;28msuper\u001b[39m()\u001b[38;5;241m.\u001b[39m\u001b[38;5;21m__setattr__\u001b[39m(name, value)\n",
      "\u001b[1;31mAttributeError\u001b[0m: Cannot set age"
     ]
    }
   ],
   "source": [
    "emp1.age = 30"
   ]
  },
  {
   "cell_type": "code",
   "execution_count": 28,
   "id": "0445ce09",
   "metadata": {},
   "outputs": [],
   "source": [
    "# 1. fname should be less than 5-8 characters\n",
    "# 2. lname should be less than 8-12 characters\n",
    "# 3. pay should be minimum $1000\n",
    "class Employee:\n",
    "    def __init__(self, fname, lname, pay):\n",
    "        self.fname = fname\n",
    "        self.lname = lname\n",
    "        self.pay = pay\n",
    "    \n",
    "    def __setattr__(self, name, value):\n",
    "        if name == \"fname\":\n",
    "            if len(value) >= 5 and len(value) <= 8:\n",
    "                super().__setattr__(name, value)\n",
    "            else:\n",
    "                raise ValueError(\"fname should be between 5 and 8 characters\")\n",
    "        elif name == \"lname\":\n",
    "            if len(value) >=8 and len(value) <=12:\n",
    "                super().__setattr__(name, value)\n",
    "            else:\n",
    "                raise ValueError(\"lname should be between 8 and 12 characters\")\n",
    "        elif name == \"pay\":\n",
    "            if value < 1000:\n",
    "                raise ValueError(\"minimum pay must be $1000\")\n",
    "            else:\n",
    "                super().__setattr__(name, value)\n",
    "\n"
   ]
  },
  {
   "cell_type": "code",
   "execution_count": 31,
   "id": "c6a21cc7",
   "metadata": {},
   "outputs": [
    {
     "data": {
      "text/plain": [
       "{'fname': 'Steve', 'lname': 'Jobssssssss', 'pay': 1000}"
      ]
     },
     "execution_count": 31,
     "metadata": {},
     "output_type": "execute_result"
    }
   ],
   "source": [
    "emp1 = Employee(\"Steve\",\"Jobssssssss\",1000)\n",
    "emp1.__dict__"
   ]
  },
  {
   "cell_type": "code",
   "execution_count": 47,
   "id": "d9e448b1",
   "metadata": {},
   "outputs": [],
   "source": [
    "class Employee:\n",
    "    def __init__(self, fname, lname, pay):\n",
    "        self.fname = fname\n",
    "        self.lname = lname\n",
    "        self.pay = pay\n",
    "        \n",
    "    @property\n",
    "    def fname(self):\n",
    "        return self._fname\n",
    "    \n",
    "    @fname.setter\n",
    "    def fname(self,value):\n",
    "        if len(value) >= 5 and len(value) <= 8:\n",
    "            self._fname = value\n",
    "        else:\n",
    "            raise ValueError(\"fname can have only 5-8 characters\")\n",
    "            \n",
    "    \n",
    "    @property\n",
    "    def lname(self):\n",
    "        return self._lname\n",
    "    \n",
    "    @lname.setter\n",
    "    def lname(self,value):\n",
    "        if len(value) >= 5 and len(value) <= 8:\n",
    "            self._lname = value\n",
    "        else:\n",
    "            raise ValueError(\"lname can have only 5-8 characters\")\n",
    "            \n",
    "            \n",
    "    @property\n",
    "    def pay(self):\n",
    "        return self._pay\n",
    "    \n",
    "    @pay.setter\n",
    "    def pay(self,value):\n",
    "        if pay>=1000:\n",
    "            self._pay = value\n",
    "        else:\n",
    "            raise ValueError(\"Minimum pay must be $1000\")\n",
    "            \n",
    "            \n",
    "    "
   ]
  },
  {
   "cell_type": "code",
   "execution_count": 45,
   "id": "2e808ed8",
   "metadata": {},
   "outputs": [
    {
     "data": {
      "text/plain": [
       "{'_fname': 'Steve', 'lname': 'Jobs', 'pay': 2000}"
      ]
     },
     "execution_count": 45,
     "metadata": {},
     "output_type": "execute_result"
    }
   ],
   "source": [
    "emp = Employee(\"Steve\",\"Jobs\",2000)\n",
    "emp.__dict__"
   ]
  },
  {
   "cell_type": "code",
   "execution_count": 48,
   "id": "4030990a",
   "metadata": {},
   "outputs": [
    {
     "ename": "ValueError",
     "evalue": "lname can have only 5-8 characters",
     "output_type": "error",
     "traceback": [
      "\u001b[1;31m---------------------------------------------------------------------------\u001b[0m",
      "\u001b[1;31mValueError\u001b[0m                                Traceback (most recent call last)",
      "Cell \u001b[1;32mIn[48], line 1\u001b[0m\n\u001b[1;32m----> 1\u001b[0m emp1 \u001b[38;5;241m=\u001b[39m Employee(\u001b[38;5;124m\"\u001b[39m\u001b[38;5;124mSteve\u001b[39m\u001b[38;5;124m\"\u001b[39m,\u001b[38;5;124m\"\u001b[39m\u001b[38;5;124mJobs\u001b[39m\u001b[38;5;124m\"\u001b[39m,\u001b[38;5;241m2000\u001b[39m)\n\u001b[0;32m      2\u001b[0m emp1\u001b[38;5;241m.\u001b[39m\u001b[38;5;18m__dict__\u001b[39m\n",
      "Cell \u001b[1;32mIn[47], line 4\u001b[0m, in \u001b[0;36mEmployee.__init__\u001b[1;34m(self, fname, lname, pay)\u001b[0m\n\u001b[0;32m      2\u001b[0m \u001b[38;5;28;01mdef\u001b[39;00m \u001b[38;5;21m__init__\u001b[39m(\u001b[38;5;28mself\u001b[39m, fname, lname, pay):\n\u001b[0;32m      3\u001b[0m     \u001b[38;5;28mself\u001b[39m\u001b[38;5;241m.\u001b[39mfname \u001b[38;5;241m=\u001b[39m fname\n\u001b[1;32m----> 4\u001b[0m     \u001b[38;5;28mself\u001b[39m\u001b[38;5;241m.\u001b[39mlname \u001b[38;5;241m=\u001b[39m lname\n\u001b[0;32m      5\u001b[0m     \u001b[38;5;28mself\u001b[39m\u001b[38;5;241m.\u001b[39mpay \u001b[38;5;241m=\u001b[39m pay\n",
      "Cell \u001b[1;32mIn[47], line 28\u001b[0m, in \u001b[0;36mEmployee.lname\u001b[1;34m(self, value)\u001b[0m\n\u001b[0;32m     26\u001b[0m     \u001b[38;5;28mself\u001b[39m\u001b[38;5;241m.\u001b[39m_lname \u001b[38;5;241m=\u001b[39m value\n\u001b[0;32m     27\u001b[0m \u001b[38;5;28;01melse\u001b[39;00m:\n\u001b[1;32m---> 28\u001b[0m     \u001b[38;5;28;01mraise\u001b[39;00m \u001b[38;5;167;01mValueError\u001b[39;00m(\u001b[38;5;124m\"\u001b[39m\u001b[38;5;124mlname can have only 5-8 characters\u001b[39m\u001b[38;5;124m\"\u001b[39m)\n",
      "\u001b[1;31mValueError\u001b[0m: lname can have only 5-8 characters"
     ]
    }
   ],
   "source": [
    "emp1 = Employee(\"Steve\",\"Jobs\",2000)\n",
    "emp1.__dict__"
   ]
  },
  {
   "cell_type": "code",
   "execution_count": 49,
   "id": "93698382",
   "metadata": {},
   "outputs": [
    {
     "ename": "ValueError",
     "evalue": "lname can have only 5-8 characters",
     "output_type": "error",
     "traceback": [
      "\u001b[1;31m---------------------------------------------------------------------------\u001b[0m",
      "\u001b[1;31mValueError\u001b[0m                                Traceback (most recent call last)",
      "Cell \u001b[1;32mIn[49], line 1\u001b[0m\n\u001b[1;32m----> 1\u001b[0m emp2 \u001b[38;5;241m=\u001b[39m Employee(\u001b[38;5;124m\"\u001b[39m\u001b[38;5;124mSteve\u001b[39m\u001b[38;5;124m\"\u001b[39m,\u001b[38;5;124m\"\u001b[39m\u001b[38;5;124mJobsssssss\u001b[39m\u001b[38;5;124m\"\u001b[39m,\u001b[38;5;241m999\u001b[39m)\n\u001b[0;32m      2\u001b[0m emp2\u001b[38;5;241m.\u001b[39m\u001b[38;5;18m__dict__\u001b[39m\n",
      "Cell \u001b[1;32mIn[47], line 4\u001b[0m, in \u001b[0;36mEmployee.__init__\u001b[1;34m(self, fname, lname, pay)\u001b[0m\n\u001b[0;32m      2\u001b[0m \u001b[38;5;28;01mdef\u001b[39;00m \u001b[38;5;21m__init__\u001b[39m(\u001b[38;5;28mself\u001b[39m, fname, lname, pay):\n\u001b[0;32m      3\u001b[0m     \u001b[38;5;28mself\u001b[39m\u001b[38;5;241m.\u001b[39mfname \u001b[38;5;241m=\u001b[39m fname\n\u001b[1;32m----> 4\u001b[0m     \u001b[38;5;28mself\u001b[39m\u001b[38;5;241m.\u001b[39mlname \u001b[38;5;241m=\u001b[39m lname\n\u001b[0;32m      5\u001b[0m     \u001b[38;5;28mself\u001b[39m\u001b[38;5;241m.\u001b[39mpay \u001b[38;5;241m=\u001b[39m pay\n",
      "Cell \u001b[1;32mIn[47], line 28\u001b[0m, in \u001b[0;36mEmployee.lname\u001b[1;34m(self, value)\u001b[0m\n\u001b[0;32m     26\u001b[0m     \u001b[38;5;28mself\u001b[39m\u001b[38;5;241m.\u001b[39m_lname \u001b[38;5;241m=\u001b[39m value\n\u001b[0;32m     27\u001b[0m \u001b[38;5;28;01melse\u001b[39;00m:\n\u001b[1;32m---> 28\u001b[0m     \u001b[38;5;28;01mraise\u001b[39;00m \u001b[38;5;167;01mValueError\u001b[39;00m(\u001b[38;5;124m\"\u001b[39m\u001b[38;5;124mlname can have only 5-8 characters\u001b[39m\u001b[38;5;124m\"\u001b[39m)\n",
      "\u001b[1;31mValueError\u001b[0m: lname can have only 5-8 characters"
     ]
    }
   ],
   "source": [
    "emp2 = Employee(\"Steve\",\"Jobsssssss\",999)\n",
    "emp2.__dict__"
   ]
  },
  {
   "cell_type": "code",
   "execution_count": null,
   "id": "e565340f",
   "metadata": {},
   "outputs": [],
   "source": []
  },
  {
   "cell_type": "code",
   "execution_count": null,
   "id": "7eac3cde",
   "metadata": {},
   "outputs": [],
   "source": []
  },
  {
   "cell_type": "code",
   "execution_count": null,
   "id": "b9f6744b",
   "metadata": {},
   "outputs": [],
   "source": []
  },
  {
   "cell_type": "code",
   "execution_count": null,
   "id": "3368dfda",
   "metadata": {},
   "outputs": [],
   "source": []
  },
  {
   "cell_type": "code",
   "execution_count": null,
   "id": "6ca8bfe0",
   "metadata": {},
   "outputs": [],
   "source": []
  },
  {
   "cell_type": "code",
   "execution_count": null,
   "id": "138d9030",
   "metadata": {},
   "outputs": [],
   "source": []
  },
  {
   "cell_type": "code",
   "execution_count": null,
   "id": "84a206a0",
   "metadata": {},
   "outputs": [],
   "source": []
  },
  {
   "cell_type": "code",
   "execution_count": null,
   "id": "b4147bb5",
   "metadata": {},
   "outputs": [],
   "source": []
  },
  {
   "cell_type": "code",
   "execution_count": null,
   "id": "21765911",
   "metadata": {},
   "outputs": [],
   "source": []
  }
 ],
 "metadata": {
  "kernelspec": {
   "display_name": "Python 3 (ipykernel)",
   "language": "python",
   "name": "python3"
  },
  "language_info": {
   "codemirror_mode": {
    "name": "ipython",
    "version": 3
   },
   "file_extension": ".py",
   "mimetype": "text/x-python",
   "name": "python",
   "nbconvert_exporter": "python",
   "pygments_lexer": "ipython3",
   "version": "3.11.3"
  }
 },
 "nbformat": 4,
 "nbformat_minor": 5
}
